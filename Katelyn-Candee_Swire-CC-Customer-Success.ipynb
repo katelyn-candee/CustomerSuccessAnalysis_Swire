{
 "cells": [
  {
   "cell_type": "markdown",
   "id": "5dec4953",
   "metadata": {},
   "source": [
    "# Business Problem Statement"
   ]
  },
  {
   "cell_type": "markdown",
   "id": "3f12ebb2",
   "metadata": {},
   "source": [
    "_Business problem_. Predict popularity, longevity, and 3-year sales volume of new Swire customers.\n",
    "\n",
    "_Benefit of solution_.\n",
    "\n",
    "_Analytics approach_. This is a predictive analytics project. We will use both classification and regression techniques to produce three models that predict popularity, longevity, and 3-year sales volume of new Swire Coca-Cola B2B customers using historical customer and sales data provided by Swire Coca-Cola, as well as census and customer review data externally sourced by the project team. The output of the three models will be probability of customer popularity (classified as 4.0 or higher; customer longevity classfied into three groups, 1, 2, and 3+ years; and total 3-year sales volume.   \n",
    "\n",
    "_Success metrics_.\n",
    "\n",
    "_Scope_. Deliverables for this project will be a presentation and report. The presentation slides, written report, and all project code files will be provided in the form of a GitHub repository acompanied by documentation  explaining the repsitory contents, access and organization.\n",
    "\n",
    "_Details_. This project will be completed by student team members Katelyn Candee, Li Xiang and Vicky Mao by April 13, with progress checkpoints overseen by University of Utah faculty advisor Jeremy Morris on or before the following dates:\n",
    "* Exploratory data analysis - February 19\n",
    "* Model selection, evaluation and deployment - March 19\n",
    "* Practice project presentation - April 9\n",
    "\n",
    "Project team members may be reach at:\n",
    "\n",
    "* Katelyn Candee - (203) 823-3129 - u1398566@utah.com\n",
    "* Li Xiang - (385) 335-4332 - u1328517@utah.edu\n",
    "* Vicky Mao - (801) 970-0482 - ??\n",
    "* Jeremy Morris (Faculty Advisor) - (801) 573-3265 - jeremy.morris@utah.edu\n",
    "\n"
   ]
  },
  {
   "cell_type": "code",
   "execution_count": 12,
   "id": "ad9e2252",
   "metadata": {},
   "outputs": [
    {
     "name": "stdout",
     "output_type": "stream",
     "text": [
      "Effort (in person-months) = 302.1420988306002\n",
      "Development time (in months) = 21.89879814905335\n",
      "Average staffing required = 13.797200046051904\n"
     ]
    }
   ],
   "source": [
    "a = 2.4\n",
    "b = 1.05\n",
    "c = 2.5\n",
    "d = 0.38\n",
    "KLOC = 100\n",
    "E = a * (KLOC ** b)\n",
    "print(\"Effort (in person-months) =\",E)\n",
    "D = c * (E ** d)\n",
    "print(\"Development time (in months) =\", D)\n",
    "avg_staff = E / D\n",
    "print(\"Average staffing required =\", avg_staff)"
   ]
  }
 ],
 "metadata": {
  "kernelspec": {
   "display_name": "Python 3 (ipykernel)",
   "language": "python",
   "name": "python3"
  },
  "language_info": {
   "codemirror_mode": {
    "name": "ipython",
    "version": 3
   },
   "file_extension": ".py",
   "mimetype": "text/x-python",
   "name": "python",
   "nbconvert_exporter": "python",
   "pygments_lexer": "ipython3",
   "version": "3.9.12"
  },
  "toc": {
   "base_numbering": 1,
   "nav_menu": {},
   "number_sections": true,
   "sideBar": true,
   "skip_h1_title": false,
   "title_cell": "Table of Contents",
   "title_sidebar": "Contents",
   "toc_cell": false,
   "toc_position": {},
   "toc_section_display": true,
   "toc_window_display": false
  },
  "varInspector": {
   "cols": {
    "lenName": 16,
    "lenType": 16,
    "lenVar": 40
   },
   "kernels_config": {
    "python": {
     "delete_cmd_postfix": "",
     "delete_cmd_prefix": "del ",
     "library": "var_list.py",
     "varRefreshCmd": "print(var_dic_list())"
    },
    "r": {
     "delete_cmd_postfix": ") ",
     "delete_cmd_prefix": "rm(",
     "library": "var_list.r",
     "varRefreshCmd": "cat(var_dic_list()) "
    }
   },
   "types_to_exclude": [
    "module",
    "function",
    "builtin_function_or_method",
    "instance",
    "_Feature"
   ],
   "window_display": false
  }
 },
 "nbformat": 4,
 "nbformat_minor": 5
}
