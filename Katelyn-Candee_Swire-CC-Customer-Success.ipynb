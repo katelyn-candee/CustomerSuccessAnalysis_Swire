{
 "cells": [
  {
   "cell_type": "markdown",
   "id": "5dec4953",
   "metadata": {},
   "source": [
    "# Business Problem Statement"
   ]
  },
  {
   "cell_type": "markdown",
   "id": "3f12ebb2",
   "metadata": {},
   "source": [
    "_Business problem_. When bidding for new contracts with local businesses, like restaurants and food trucks, to exclusively sell Coca-Cola, Swire Coca-Cola needs to make an informed decision about the profitability of that business. If Swire Coca-Cola offers a low price point to win a contract, and the business does not last, Swire Coca-Cola loses a significant investment.\n",
    "\n",
    "_Benefit of solution_. Improving Swire Coca-Cola's ability to predict the success of a new business in their market will increase the likelihood that their new accounts will be long-lasting and profitable.\n",
    "\n",
    "_Analytics approach_. This is a predictive analytics project. We will use both classification and regression techniques to produce three models to predict the popularity, longevity, and 3-year sales volume of prospective businesses using historical customer and sales data provided by Swire Coca-Cola, as well as census and customer review data externally sourced by our project team. The output of the three models will be probability of customer popularity, classified as a 4.0 customer review rating or higher; customer longevity, classified into three groups: 1, 2, and 3+ years; and total 3-year sales volume.   \n",
    "\n",
    "_Success metrics_. The project will be considered a success if Swire Coca-Cola sees an increase in its number of profitable B2B relationships from using our predictions to inform bidding. \n",
    "\n",
    "_Scope_. The deliverables for this project will be a visual presentation and a written report summarizing our exploratory data analysis, model selection, evaluation and deployment process, and recommendations for applying our results. The presentation slides, written report, and all project code files will be provided to Swire Coca-Cola in the form of a GitHub repository accompanied by documentation explaining the repository contents, access, and organization.\n",
    "\n",
    "_Details_. This project will be completed by student team members Katelyn Candee, Li Xiang and Vicky Mao by April 13, with progress checkpoints overseen by University of Utah faculty advisor Jeremy Morris on or before the following dates:\n",
    "* Exploratory data analysis - February 19\n",
    "* Model selection, evaluation and deployment - March 19\n",
    "* Practice project presentation - April 9\n",
    "\n",
    "Project team members may be reach at:\n",
    "\n",
    "* Katelyn Candee - (203) 823-3129 - u1398566@utah.com\n",
    "* Li Xiang - (385) 335-4332 - u1328517@utah.edu\n",
    "* Vicky Mao - (801) 970-0482 - ??\n",
    "* Jeremy Morris (Faculty Advisor) - (801) 573-3265 - jeremy.morris@utah.edu\n"
   ]
  },
  {
   "cell_type": "code",
   "execution_count": null,
   "id": "80778f34",
   "metadata": {},
   "outputs": [],
   "source": []
  }
 ],
 "metadata": {
  "kernelspec": {
   "display_name": "Python 3 (ipykernel)",
   "language": "python",
   "name": "python3"
  },
  "language_info": {
   "codemirror_mode": {
    "name": "ipython",
    "version": 3
   },
   "file_extension": ".py",
   "mimetype": "text/x-python",
   "name": "python",
   "nbconvert_exporter": "python",
   "pygments_lexer": "ipython3",
   "version": "3.9.12"
  },
  "toc": {
   "base_numbering": 1,
   "nav_menu": {},
   "number_sections": true,
   "sideBar": true,
   "skip_h1_title": false,
   "title_cell": "Table of Contents",
   "title_sidebar": "Contents",
   "toc_cell": false,
   "toc_position": {},
   "toc_section_display": true,
   "toc_window_display": false
  },
  "varInspector": {
   "cols": {
    "lenName": 16,
    "lenType": 16,
    "lenVar": 40
   },
   "kernels_config": {
    "python": {
     "delete_cmd_postfix": "",
     "delete_cmd_prefix": "del ",
     "library": "var_list.py",
     "varRefreshCmd": "print(var_dic_list())"
    },
    "r": {
     "delete_cmd_postfix": ") ",
     "delete_cmd_prefix": "rm(",
     "library": "var_list.r",
     "varRefreshCmd": "cat(var_dic_list()) "
    }
   },
   "types_to_exclude": [
    "module",
    "function",
    "builtin_function_or_method",
    "instance",
    "_Feature"
   ],
   "window_display": false
  }
 },
 "nbformat": 4,
 "nbformat_minor": 5
}
